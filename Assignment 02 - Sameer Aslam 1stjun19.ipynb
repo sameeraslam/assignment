{
 "cells": [
  {
   "cell_type": "raw",
   "metadata": {},
   "source": [
    "Assignment 02:\n",
    "\n",
    "Assalam alikum.\n",
    "Our next assignment is to make Todo application program.\n",
    "\n",
    "Hints: \n",
    "1- Use lists to develop a to-do application program. \n",
    "2- You may use pop, append, if statements and input functions\n",
    "\n",
    "\n",
    "Explanation:\n",
    "Steps: \n",
    "1- Make a list of some daily_tasks. E.g Awake , Assignment, Prayer , Recite Quran , Call , Aftar ,Tarvee and much more....... \n",
    "2- Make an empty list. \n",
    "3- take user input. \n",
    "4- if user Input is in the list , pop it and append it into empty list. \n",
    "When the length of your list is less then 1 your output should be: “Now your list is empty” \n",
    "And in the last if the users enter the task which is not in the list. \n",
    "Your output should be: “This task is not in the todo list”"
   ]
  },
  {
   "cell_type": "code",
   "execution_count": 15,
   "metadata": {},
   "outputs": [
    {
     "name": "stdout",
     "output_type": "stream",
     "text": [
      "List of activities is:\n",
      "['wakeup', 'pray', 'brush', 'jog', 'bath', 'dress', 'commute', 'work'] \n",
      "\n",
      "empty list:\n",
      "[] \n",
      "\n"
     ]
    }
   ],
   "source": [
    "list_dailytasks=[\"wakeup\",\"pray\",\"brush\",\"jog\",\"bath\",\"dress\",\"commute\",\"work\"]\n",
    "print(\"List of activities is:\")\n",
    "print(list_dailytasks,\"\\n\")\n",
    "empty_list=[]\n",
    "print(\"empty list:\")\n",
    "print(empty_list, \"\\n\")\n"
   ]
  },
  {
   "cell_type": "code",
   "execution_count": 22,
   "metadata": {},
   "outputs": [
    {
     "name": "stdout",
     "output_type": "stream",
     "text": [
      "please mention task to confirm brush\n",
      "its here\n",
      "['wakeup', 'bath', 'dress', 'commute', 'work'] \n",
      "\n",
      "['pray', 'jog', 'brush'] \n",
      "\n"
     ]
    }
   ],
   "source": [
    "inquiry=str(input(\"please mention task to confirm \"))\n",
    "if list_dailytasks.count(inquiry)== True:\n",
    "    print(\"its here\")\n",
    "    empty_list.append(list_dailytasks.pop(list_dailytasks.index(inquiry)))\n",
    "    print(list_dailytasks,\"\\n\")\n",
    "    print(empty_list, \"\\n\")\n",
    "else:\n",
    "        print(\"activity is not here\")"
   ]
  },
  {
   "cell_type": "code",
   "execution_count": null,
   "metadata": {},
   "outputs": [],
   "source": []
  },
  {
   "cell_type": "raw",
   "metadata": {},
   "source": [
    "#inquiry=str(input(\"please mention task to confirm \"))\n",
    "#if {\"inquiry\"} in list_dailytasks== True:  1 also works instead of boolean\n",
    "#    print(\"its here\")"
   ]
  },
  {
   "cell_type": "code",
   "execution_count": null,
   "metadata": {},
   "outputs": [],
   "source": []
  }
 ],
 "metadata": {
  "kernelspec": {
   "display_name": "Python 3",
   "language": "python",
   "name": "python3"
  },
  "language_info": {
   "codemirror_mode": {
    "name": "ipython",
    "version": 3
   },
   "file_extension": ".py",
   "mimetype": "text/x-python",
   "name": "python",
   "nbconvert_exporter": "python",
   "pygments_lexer": "ipython3",
   "version": "3.7.3"
  }
 },
 "nbformat": 4,
 "nbformat_minor": 2
}
