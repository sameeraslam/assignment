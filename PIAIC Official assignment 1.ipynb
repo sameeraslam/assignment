{
 "cells": [
  {
   "cell_type": "markdown",
   "metadata": {},
   "source": [
    "## 1. Calculate Area of a Circle"
   ]
  },
  {
   "cell_type": "markdown",
   "metadata": {},
   "source": [
    "#### Write a Python program which accepts the radius of a circle from the user and compute the area.\n",
    "###### Program Console Sample Output 1:\n",
    "###### Input Radius: 0.5\n",
    "###### Area of Circle with radius 0.5 is 0.7853981634"
   ]
  },
  {
   "cell_type": "code",
   "execution_count": null,
   "metadata": {},
   "outputs": [],
   "source": [
    "from math import pi                   #from math lib we important pi to get exact values acc* to sample O/P\n",
    "rad= float (input (\"enter radius\"))\n",
    "Area = ((pi)*(rad*rad))\n",
    "print (f\"\\nArea of Circle with radius {rad} is {round(Area,10)}\")"
   ]
  },
  {
   "cell_type": "markdown",
   "metadata": {},
   "source": [
    "## 2. Check Number either positive, negative or zero"
   ]
  },
  {
   "cell_type": "markdown",
   "metadata": {},
   "source": [
    "#### Write a Python program to check if a number is positive, negative or zero\n",
    "###### Program Console Sample Output 1:\n",
    "###### Enter Number: -1\n",
    "##### Negative Number Entered\n",
    "###### Program Console Sample Output 2:\n",
    "##### Integer: 3\n",
    "##### Positive Number Entered\n",
    "###### Program Console Sample Output 3:\n",
    "##### Integer: 0\n",
    "###### Zero Entered"
   ]
  },
  {
   "cell_type": "code",
   "execution_count": null,
   "metadata": {},
   "outputs": [],
   "source": [
    "numx = int(input(\"Enter number\\t\"))\n",
    "if (numx<0):\n",
    "    print (\"Negative number entered\")\n",
    "if (numx>0):\n",
    "    print (\"Positive number entered\")\n",
    "if (numx==0):\n",
    "    print (\"Zero entered\")\n",
    "\n"
   ]
  },
  {
   "cell_type": "markdown",
   "metadata": {},
   "source": [
    "## 3. Divisibility Check of two numbers"
   ]
  },
  {
   "cell_type": "markdown",
   "metadata": {},
   "source": [
    "#### Write a Python program to check whether a number is completely divisible by another number. Accept two integer values form the user\n",
    "##### Program Console Sample Output 1:\n",
    "###### Enter numerator: 4\n",
    "###### Enter Denominator: 2\n",
    "##### Number 4 is Completely divisible by 2\n",
    "###### Program Console Sample Output 2:\n",
    "##### Enter numerator: 7\n",
    "\n",
    "##### Enter Denominator: 4\n",
    "###### Number 7 is not Completely divisible by 4"
   ]
  },
  {
   "cell_type": "code",
   "execution_count": null,
   "metadata": {},
   "outputs": [],
   "source": [
    "numy= int(input(\"enter numerator\\t\\t\"))\n",
    "deny= int(input(\"enter denominator\\t\"))\n",
    "anum= numy%deny  # where completely divisble has 0 as remainder\n",
    "anum\n",
    "if anum==0:\n",
    "    print (f\"\\nNumber {numy} is Completely divisible by {deny}\")\n",
    "else:\n",
    "    print (f\"Number {numy} is NOT Completely divisible by {deny}\")"
   ]
  },
  {
   "cell_type": "markdown",
   "metadata": {},
   "source": [
    "## 4. Calculate Volume of a sphere"
   ]
  },
  {
   "cell_type": "markdown",
   "metadata": {},
   "source": [
    "##### Write a Python program to get the volume of a sphere, please take the radius as input from user"
   ]
  },
  {
   "cell_type": "markdown",
   "metadata": {},
   "source": [
    "##### Program Console Output:\n",
    "##### Enter Radius of Sphere: 1\n",
    "###### Volume of the Sphere with Radius 1 is 4.18"
   ]
  },
  {
   "cell_type": "code",
   "execution_count": null,
   "metadata": {},
   "outputs": [],
   "source": [
    "from math import pi                          #not needed since already defined in first program\n",
    "rds=int(input(\"enter radius of a sphere\\t\"))\n",
    "vol= (4/3)*pi*(rds**3)                         # where ** is for raise to a power\n",
    "print (f\"Volume of the Sphere with Radius {rds} is {round(vol,2)}\")"
   ]
  },
  {
   "cell_type": "markdown",
   "metadata": {},
   "source": [
    "## 5. Copy string n times\n",
    "#### Write a Python program to get a string which is n (non-negative integer) copies of a given string.\n",
    "##### Program Console Output:\n",
    "##### Enter String: Hi\n",
    "###### How many copies of String you need: 4\n",
    "###### 4 Copies of Hi are HiHiHiHi"
   ]
  },
  {
   "cell_type": "code",
   "execution_count": null,
   "metadata": {},
   "outputs": [],
   "source": [
    "str_1=str(input(\"enter string\"))\n",
    "cop_1=int(input(f\"how many copies of string do you need\"))\n",
    "print(f\"{cop_1} copies of string are {str_1.title()*cop_1}\")\n"
   ]
  },
  {
   "cell_type": "markdown",
   "metadata": {},
   "source": [
    "## 6. Check if number is Even or Odd\n",
    "### Write a Python program to find whether a given number (accept from the user) is even or odd, print out an appropriate message to the user\n",
    "#### Program Console Output 1:\n",
    "##### Enter Number: 4\n",
    "###### 4 is Even\n",
    "#### Program Console Output 2:\n",
    "##### Enter Number: 9\n",
    "###### 9 is Odd"
   ]
  },
  {
   "cell_type": "code",
   "execution_count": null,
   "metadata": {},
   "outputs": [],
   "source": [
    "num1x= int(input(\"enter number\\t\"))\n",
    "if num1x%2==0:  #modulus operand enables us to confirm if there were any remainders under division by 2 to rule out evens\n",
    "               #this was done by using logic num1%2 =remainder where 1 is odd and 0 is even\n",
    "    print(f\"{num1x} is even\")\n",
    "else:\n",
    "    print(f\"{num1x} is odd\")\n"
   ]
  },
  {
   "cell_type": "markdown",
   "metadata": {},
   "source": [
    "## 7. Vowel Tester\n",
    "### Write a Python program to test whether a passed letter is a vowel or not\n",
    "#### Program Console Output 1:\n",
    "##### Enter a character: A\n",
    "###### Letter A is Vowel\n",
    "#### Program Console Output 2:\n",
    "##### Enter a character: e\n",
    "###### Letter e is Vowel\n",
    "#### Program Console Output 2:\n",
    "##### Enter a character: N\n",
    "###### Letter N is not Vowel"
   ]
  },
  {
   "cell_type": "code",
   "execution_count": null,
   "metadata": {},
   "outputs": [],
   "source": [
    "vowels=[\"a\",\"e\",\"i\",\"o\",\"u\"]\n",
    "char=(input(\"enter a character\\n\"))\n",
    "if char in vowels:\n",
    "    print (f\"letter {char.upper()} is a vowel\")      \n",
    "else:\n",
    "    print(f\"letter {char.upper()} is not a vowel\")"
   ]
  },
  {
   "cell_type": "markdown",
   "metadata": {},
   "source": [
    "## 8. Triangle area\n",
    "### Write a Python program that will accept the base and height of a triangle and compute the area\n",
    "###### Reference:\n",
    "https://www.mathgoodies.com/lessons/vol1/area_triangle"
   ]
  },
  {
   "cell_type": "markdown",
   "metadata": {},
   "source": [
    "self ref: area of a triangle is = $(b*h)/2$\n",
    "                               "
   ]
  },
  {
   "cell_type": "code",
   "execution_count": null,
   "metadata": {},
   "outputs": [],
   "source": [
    "base= float(input(\"enter base for triangle\\t\\t\"))\n",
    "height= float(input(\"enter height for triangle\\t\"))\n",
    "area_tri=(base*height)/2\n",
    "print (f\"area of the triangle is \\t{area_tri}\")\n"
   ]
  },
  {
   "cell_type": "markdown",
   "metadata": {},
   "source": [
    "## 9. Calculate Interest\n",
    "### Write a Python program to compute the future value of a specified principal amount, rate of interest, and a number of years\n",
    "#### Program Console Sample 1:\n",
    "##### Please enter principal amount: 10000\n",
    "###### Please Enter Rate of interest in %: 0.1\n",
    "###### Enter number of years for investment: 5\n",
    "###### After 5 years your principal amount 10000 over an interest rate of 0.1 % will be 16105.1"
   ]
  },
  {
   "attachments": {
    "image.png": {
     "image/png": "[encoded data removed]"
    }
   },
   "cell_type": "markdown",
   "metadata": {},
   "source": [
    "Using cash flow example from coursehero.com:\n",
    "![image.png](attachment:image.png)"
   ]
  },
  {
   "cell_type": "code",
   "execution_count": null,
   "metadata": {},
   "outputs": [],
   "source": [
    "P= int(input(\"Please enter principal amount:\\t\\t\"))\n",
    "R= float(input(\"Please Enter Rate of interest in %:\\t\\t\"))\n",
    "T= int(input(\"Enter number of years for investment\\t\\t\"))\n",
    "result=P*(1+R)**T\n",
    "print(f\"After {T} years your principal amount {P} over an interest rate of {R} % will be {round(result,1)}\")\n"
   ]
  },
  {
   "cell_type": "code",
   "execution_count": null,
   "metadata": {},
   "outputs": [],
   "source": []
  },
  {
   "cell_type": "markdown",
   "metadata": {},
   "source": [
    "## 10. Euclidean distance\n",
    "### write a Python program to compute the distance between the points (x1, y1) and (x2, y2).\n",
    "#### Program Console Sample 1:\n",
    "###### Enter Co-ordinate for x1: 2\n",
    "###### Enter Co-ordinate for x2: 4\n",
    "###### Enter Co-ordinate for y1: 4\n",
    "###### Enter Co-ordinate for y2: 4\n",
    "###### Distance between points (2, 4) and (4, 4) is 2"
   ]
  },
  {
   "cell_type": "markdown",
   "metadata": {},
   "source": [
    "###### Reference:\n",
    "https://en.wikipedia.org/wiki/Euclidean_distance"
   ]
  },
  {
   "cell_type": "markdown",
   "metadata": {},
   "source": [
    "according to Euclidean distance formula $dist(x1,y1),(x2,y2)=sqrt((x1-x2)+(y1-y2))$"
   ]
  },
  {
   "cell_type": "code",
   "execution_count": 15,
   "metadata": {},
   "outputs": [
    {
     "name": "stdout",
     "output_type": "stream",
     "text": [
      "enter co-ordinate x14\n",
      "enter co-ordinate y14\n",
      "enter co-ordinate x22\n",
      "enter co-ordinate y12\n",
      "distance between points (4,4) and (2,2) is 2.0\n"
     ]
    }
   ],
   "source": [
    "from math import sqrt\n",
    "x1=int(input(\"enter co-ordinate x1\"))\n",
    "y1=int(input(\"enter co-ordinate y1\"))\n",
    "x2=int(input(\"enter co-ordinate x2\"))\n",
    "y2=int(input(\"enter co-ordinate y1\"))\n",
    "dist_bw_2euclidpoints=sqrt((x1-x2)+(y1-y2))\n",
    "print(f\"distance between points ({x1},{y1}) and ({x2},{y2}) is {dist_bw_2euclidpoints}\")\n",
    "\n",
    "#check the points again"
   ]
  },
  {
   "cell_type": "markdown",
   "metadata": {},
   "source": [
    "## 11. Feet to Centimeter Converter\n",
    "### Write a Python program to convert height in feet to centimetres.\n",
    "##### Program Console Sample 1:\n",
    "###### Enter Height in Feet: 5\n",
    "###### There are 152.4 Cm in 5 ft\n",
    "###### Reference:\n",
    "https://www.rapidtables.com/convert/length/feet-to-cm.html"
   ]
  },
  {
   "cell_type": "code",
   "execution_count": 18,
   "metadata": {},
   "outputs": [
    {
     "name": "stdout",
     "output_type": "stream",
     "text": [
      "enter height in ft\t5\n",
      "there are 152.4cm in 5ft\n"
     ]
    }
   ],
   "source": [
    "feet=int(input(\"enter height in ft\\t\"))\n",
    "#30.48cm in 1 ft\n",
    "print(f\"there are {30.48*feet}cm in {feet} ft\")"
   ]
  },
  {
   "cell_type": "markdown",
   "metadata": {},
   "source": [
    "## 12. BMI Calculator\n",
    "### Write a Python program to calculate body mass index\n",
    "##### Program Console Sample 1:\n",
    "###### Enter Height in Cm: 180\n",
    "###### Enter Weight in Kg: 75\n",
    "###### Your BMI is 23.15"
   ]
  },
  {
   "cell_type": "raw",
   "metadata": {},
   "source": [
    "ref- kg/cm**2  #confirmed that measurement is not taken as cm but m"
   ]
  },
  {
   "cell_type": "code",
   "execution_count": 32,
   "metadata": {},
   "outputs": [
    {
     "name": "stdout",
     "output_type": "stream",
     "text": [
      "enter height in cm\t180\n",
      "enter weight in kg\t75\n",
      "Your BMI is 23.15\n"
     ]
    }
   ],
   "source": [
    "h1=int(input(\"enter height in cm\\t\"))\n",
    "w1=int(input(\"enter weight in kg\\t\"))\n",
    "bmi=(w1/(h1*.01)**2)\n",
    "print (f\"Your BMI is {round(bmi,2)}\")  #to convert cm to m for getting required O/P, mux by .01 for cm to m"
   ]
  },
  {
   "cell_type": "markdown",
   "metadata": {},
   "source": [
    "## 13. Sum of n Positive Integers\n",
    "### Write a python program to sum of the first n positive integers\n",
    "#### Program Console Sample 1:\n",
    "###### Enter value of n: 5\n",
    "###### Sum of n Positive integers till 5 is 15"
   ]
  },
  {
   "cell_type": "code",
   "execution_count": 64,
   "metadata": {
    "scrolled": true
   },
   "outputs": [
    {
     "name": "stdout",
     "output_type": "stream",
     "text": [
      "enter n6\n",
      "Sum of n Positive integers till 6 is 21\n"
     ]
    }
   ],
   "source": [
    "n=int(input(\"enter n\"))\n",
    "average=0\n",
    "sum = 0\n",
    "      \n",
    "for num in range (0,n+1,1):\n",
    "      sum=sum+num\n",
    "print(f\"Sum of n Positive integers till {n} is {sum}\")"
   ]
  },
  {
   "cell_type": "markdown",
   "metadata": {},
   "source": [
    "rough\n",
    "#n=int(input(\"enter value of n:\\t\"))\n",
    "#tot=0\n",
    "#for val in range(0,n+1,1):\n",
    "    tot=tot+val\n",
    "   tot\n",
    "print(f\"sum of n positive integers till {val+(val-1)} \")"
   ]
  },
  {
   "cell_type": "markdown",
   "metadata": {},
   "source": [
    "## 14. Digits Sum of a Number\n",
    "### Write a Python program to calculate the sum of the digits in an integer\n",
    "#### Program Console Sample 1:\n",
    "##### Enter a number: 15\n",
    "###### Sum of 1 + 5 is 6\n",
    "#### Program Console Sample 2:\n",
    "##### Enter a number: 1234\n",
    "###### Sum of 1 + 2 + 3 + 4 is 10"
   ]
  },
  {
   "cell_type": "markdown",
   "metadata": {},
   "source": [
    "under study\n",
    "n1=int(input(\"enter no\"))\n",
    "total=0\n",
    "while(n1>0):\n",
    "    dig=n1%10\n",
    "    total=total+dig\n",
    "    n1=n1//10\n",
    "    print(f\"sum of digits is{total}\")"
   ]
  },
  {
   "cell_type": "code",
   "execution_count": null,
   "metadata": {},
   "outputs": [],
   "source": []
  }
 ],
 "metadata": {
  "kernelspec": {
   "display_name": "Python 3",
   "language": "python",
   "name": "python3"
  },
  "language_info": {
   "codemirror_mode": {
    "name": "ipython",
    "version": 3
   },
   "file_extension": ".py",
   "mimetype": "text/x-python",
   "name": "python",
   "nbconvert_exporter": "python",
   "pygments_lexer": "ipython3",
   "version": "3.7.3"
  }
 },
 "nbformat": 4,
 "nbformat_minor": 2
}
